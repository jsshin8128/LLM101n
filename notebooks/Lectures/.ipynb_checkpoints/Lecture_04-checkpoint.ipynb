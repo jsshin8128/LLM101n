{
 "cells": [
  {
   "cell_type": "markdown",
   "id": "98e47033fa23b699",
   "metadata": {},
   "source": [
    "# Lecture 4: Initialization and Activations\n",
    "\n",
    "In this lecture, we will discuss the importance of initialization and activation functions in neural networks."
   ]
  },
  {
   "cell_type": "markdown",
   "id": "cd8105e0378300a",
   "metadata": {},
   "source": [
    "## Complex architectures\n",
    "\n",
    "In the previous lectures, we have seen how to build a single layer, and a multi-layer neural network. In practice, we often use more complex architectures, such as convolutional neural network (CNN), or a recurrent neural network (RNN).\n",
    "- MLP: [wikipedia](https://en.wikipedia.org/wiki/Multilayer_perceptron)\n",
    "- CNN: [LeCun et al. 1989](http://vision.stanford.edu/cs598_spring07/papers/Lecun98.pdf)\n",
    "- RNN: [Sutskever et al. 2011](https://arxiv.org/pdf/1409.3215)\n",
    "\n",
    "In order to proceed to those more complex architectures, we need to dive deeper into **activation functions** and **gradients**."
   ]
  },
  {
   "cell_type": "markdown",
   "id": "1d2544107637bb44",
   "metadata": {},
   "source": [
    "## MLP\n",
    "\n",
    "Let's continue with our MLP model."
   ]
  },
  {
   "cell_type": "markdown",
   "id": "876ddcc8e04fb710",
   "metadata": {},
   "source": [
    "### Importing libraries"
   ]
  },
  {
   "cell_type": "code",
   "execution_count": 1,
   "id": "initial_id",
   "metadata": {},
   "outputs": [],
   "source": [
    "import os\n",
    "import matplotlib.pyplot as plt\n",
    "from dataclasses import dataclass\n",
    "import torch\n",
    "import torch.nn as nn\n",
    "from torch.nn import functional as F\n",
    "from utils import load_text, set_seed, configure_device"
   ]
  },
  {
   "cell_type": "markdown",
   "id": "aff861f3906e686",
   "metadata": {},
   "source": [
    "### Configuration"
   ]
  },
  {
   "cell_type": "code",
   "execution_count": 2,
   "id": "bc82cefceb2b4302",
   "metadata": {},
   "outputs": [],
   "source": [
    "@dataclass\n",
    "class MLPConfig:\n",
    "    root_dir: str = os.getcwd() + \"/../../\"\n",
    "    dataset_path: str = \"data/names.txt\"\n",
    "    device: torch.device = torch.device('cpu')  # Automatic device configuration\n",
    "\n",
    "    # Tokenizer\n",
    "    vocab_size: int = 0  # Set later\n",
    "    \n",
    "    # Model\n",
    "    context_size: int = 3\n",
    "    d_embed: int = 16\n",
    "    d_hidden: int = 256\n",
    "    \n",
    "    # Training\n",
    "    val_size: float = 0.1\n",
    "    batch_size: int = 32\n",
    "    max_steps: int = 1000\n",
    "    lr: float = 0.01\n",
    "    val_interval: int = 100\n",
    "\n",
    "    seed: int = 101\n",
    "\n",
    "config = MLPConfig()"
   ]
  },
  {
   "cell_type": "markdown",
   "id": "e7e2cf68009ad20f",
   "metadata": {},
   "source": [
    "### Reproducibility"
   ]
  },
  {
   "cell_type": "code",
   "execution_count": 3,
   "id": "53502de47cac985e",
   "metadata": {},
   "outputs": [
    {
     "name": "stdout",
     "output_type": "stream",
     "text": [
      "Random seed set to 101\n"
     ]
    }
   ],
   "source": [
    "set_seed(config.seed)\n",
    "generator = torch.Generator().manual_seed(config.seed)"
   ]
  },
  {
   "cell_type": "markdown",
   "id": "a5c422a13101aa69",
   "metadata": {},
   "source": [
    "### Device"
   ]
  },
  {
   "cell_type": "code",
   "execution_count": 4,
   "id": "1d65cdb0ee95496a",
   "metadata": {},
   "outputs": [
    {
     "name": "stdout",
     "output_type": "stream",
     "text": [
      "Running on cpu\n"
     ]
    }
   ],
   "source": [
    "config.device = configure_device()"
   ]
  },
  {
   "cell_type": "markdown",
   "id": "1830e0b05351c970",
   "metadata": {},
   "source": [
    "### Dataset"
   ]
  },
  {
   "cell_type": "code",
   "execution_count": 5,
   "id": "dbe484251e8d3148",
   "metadata": {},
   "outputs": [
    {
     "name": "stdout",
     "output_type": "stream",
     "text": [
      "Loaded text data from /home/user/LLM101n/notebooks/Lectures/../../data/names.txt (length: 228145 characters).\n"
     ]
    }
   ],
   "source": [
    "# Load text and split by lines\n",
    "names = load_text(config.root_dir + config.dataset_path).splitlines()"
   ]
  },
  {
   "cell_type": "markdown",
   "id": "9eb1b7200ed36a2",
   "metadata": {},
   "source": [
    "### Tokenizer"
   ]
  },
  {
   "cell_type": "code",
   "execution_count": 6,
   "id": "fd282e2811924bf1",
   "metadata": {},
   "outputs": [],
   "source": [
    "chars = [chr(i) for i in range(97, 123)]  # all alphabet characters\n",
    "chars.insert(0, \".\")  # Add special token\n",
    "config.vocab_size = len(chars)\n",
    "str2idx = {char: idx for idx, char in enumerate(chars)}\n",
    "idx2str = {idx: char for char, idx in str2idx.items()}"
   ]
  },
  {
   "cell_type": "markdown",
   "id": "3864f8e66657220e",
   "metadata": {},
   "source": [
    "### Preprocessing"
   ]
  },
  {
   "cell_type": "markdown",
   "id": "5113d265597ca2d4",
   "metadata": {},
   "source": [
    "#### Train-validation split"
   ]
  },
  {
   "cell_type": "code",
   "execution_count": 7,
   "id": "26528063b4665736",
   "metadata": {},
   "outputs": [],
   "source": [
    "def split_names(_names, val_size):\n",
    "    if val_size <= 0 or val_size >= 1:\n",
    "        raise ValueError(f\"Invalid validation size: {val_size}\")\n",
    "    ################################################################################\n",
    "    # TODO:                                                                        #\n",
    "    # Split the data into training and validation sets.                            #\n",
    "    ################################################################################\n",
    "    # *****START OF YOUR CODE (DO NOT DELETE/MODIFY THIS LINE)*****\n",
    "    import random\n",
    "\n",
    "    random.seed(101)\n",
    "    random.shuffle(_names)\n",
    "\n",
    "    val_count = int(len(_names) * val_size)\n",
    "    val_names = _names[:val_count]\n",
    "    train_names = _names[val_count:]\n",
    "\n",
    "    # *****END OF YOUR CODE (DO NOT DELETE/MODIFY THIS LINE)*****\n",
    "    return train_names, val_names"
   ]
  },
  {
   "cell_type": "code",
   "execution_count": 8,
   "id": "ddd8d1bd9057bdcd",
   "metadata": {},
   "outputs": [],
   "source": [
    "train_names, val_names = split_names(names, config.val_size)"
   ]
  },
  {
   "cell_type": "markdown",
   "id": "25ea5ab9af7b800d",
   "metadata": {},
   "source": [
    "#### Dataloader"
   ]
  },
  {
   "cell_type": "code",
   "execution_count": 9,
   "id": "460c347fff0f8ba9",
   "metadata": {},
   "outputs": [],
   "source": [
    "def prepare_dataset(_names):\n",
    "    _inputs, _targets = [], []\n",
    "\n",
    "    for name in _names:\n",
    "        _context = [0] * config.context_size\n",
    "        \n",
    "        for char in name + \".\":\n",
    "            idx = str2idx[char]\n",
    "            _inputs.append(_context)\n",
    "            _targets.append(idx)\n",
    "            _context = _context[1:] + [idx]  # Shift the context by 1 character\n",
    "\n",
    "    _inputs = torch.tensor(_inputs)\n",
    "    _targets = torch.tensor(_targets)\n",
    "    \n",
    "    return _inputs, _targets"
   ]
  },
  {
   "cell_type": "code",
   "execution_count": 10,
   "id": "90a43d3870420b0c",
   "metadata": {},
   "outputs": [],
   "source": [
    "train_inputs, train_targets = prepare_dataset(train_names)\n",
    "val_inputs, val_targets = prepare_dataset(val_names)"
   ]
  },
  {
   "cell_type": "code",
   "execution_count": 11,
   "id": "6e83e4ee491ef185",
   "metadata": {},
   "outputs": [
    {
     "name": "stdout",
     "output_type": "stream",
     "text": [
      "Training (Inputs, Targets) shapes: (torch.Size([205146, 3]), torch.Size([205146]))\n",
      "Validation (Inputs, Targets) shapes: (torch.Size([23000, 3]), torch.Size([23000]))\n",
      "First Train (Input, target): (tensor([0, 0, 0]), 19)\n",
      "First Validation (Input, Target): (tensor([0, 0, 0]), 3)\n",
      "Second Train (Input, Target): (tensor([ 0,  0, 19]), 1)\n",
      "Second Validation (Input, Target): (tensor([0, 0, 3]), 8)\n"
     ]
    }
   ],
   "source": [
    "# Check the shapes\n",
    "print(f\"Training (Inputs, Targets) shapes: ({train_inputs.shape}, {train_targets.shape})\")\n",
    "print(f\"Validation (Inputs, Targets) shapes: ({val_inputs.shape}, {val_targets.shape})\")\n",
    "# Example input and target pairs\n",
    "print(f\"First Train (Input, target): ({train_inputs[0]}, {train_targets[0]})\")\n",
    "print(f\"First Validation (Input, Target): ({val_inputs[0]}, {val_targets[0]})\")\n",
    "print(f\"Second Train (Input, Target): ({train_inputs[1]}, {train_targets[1]})\")\n",
    "print(f\"Second Validation (Input, Target): ({val_inputs[1]}, {val_targets[1]})\")"
   ]
  },
  {
   "cell_type": "markdown",
   "id": "7a56951b7353fc88",
   "metadata": {},
   "source": [
    "### Model"
   ]
  },
  {
   "cell_type": "code",
   "execution_count": 12,
   "id": "8c63d0952da574d2",
   "metadata": {},
   "outputs": [],
   "source": [
    "class MLP(nn.Module):\n",
    "    def __init__(self, vocab_size, context_size, d_embed, d_hidden):\n",
    "        super().__init__()\n",
    "        self.C = nn.Parameter(torch.randn(vocab_size, d_embed))\n",
    "        self.W1 = nn.Parameter(torch.randn(context_size * d_embed, d_hidden))\n",
    "        self.b1 = nn.Parameter(torch.randn(d_hidden))\n",
    "        self.W2 = nn.Parameter(torch.randn(d_hidden, vocab_size))\n",
    "        self.b2 = nn.Parameter(torch.randn(vocab_size))\n",
    "        \n",
    "    def forward(self, x):  # x: (batch_size, context_size)\n",
    "        # Embedding\n",
    "        x_embed = self.C[x]  # (batch_size, context_size, d_embed)\n",
    "        x = x_embed.view(x.size(0), -1)  # (batch_size, context_size * d_embed)\n",
    "        \n",
    "        # Hidden layer\n",
    "        h = F.tanh(x @ self.W1 + self.b1)  # (batch_size, d_hidden)\n",
    "        \n",
    "        # Output layer\n",
    "        logits = torch.matmul(h, self.W2) + self.b2  # (batch_size, vocab_size)\n",
    "        return logits"
   ]
  },
  {
   "cell_type": "code",
   "execution_count": 13,
   "id": "fa2656e284cbc28a",
   "metadata": {},
   "outputs": [
    {
     "name": "stdout",
     "output_type": "stream",
     "text": [
      "MLP()\n",
      "Number of parameters: 19915\n"
     ]
    }
   ],
   "source": [
    "# Initialize the model\n",
    "mlp = MLP(config.vocab_size, config.context_size, config.d_embed, config.d_hidden)\n",
    "mlp.to(config.device) # Move the model to the device\n",
    "print(mlp)\n",
    "print(\"Number of parameters:\", sum(p.numel() for p in mlp.parameters()))"
   ]
  },
  {
   "cell_type": "markdown",
   "id": "b1959eab47fe9149",
   "metadata": {},
   "source": [
    "### Training"
   ]
  },
  {
   "cell_type": "code",
   "execution_count": 14,
   "id": "9464484496a413dd",
   "metadata": {},
   "outputs": [],
   "source": [
    "def train(model):\n",
    "    steps = []\n",
    "    train_losses = []\n",
    "    val_losses = []\n",
    "\n",
    "    # Define the optimizer\n",
    "    optimizer = torch.optim.SGD(model.parameters(), lr=config.lr)\n",
    "\n",
    "    for step in range(1, config.max_steps + 1):\n",
    "        # Training\n",
    "        model.train()  # Set the model to training mode\n",
    "        # Mini-batch\n",
    "        idx = torch.randperm(len(train_inputs))[:config.batch_size]\n",
    "        x, y = train_inputs[idx], train_targets[idx]\n",
    "        x, y = x.to(config.device), y.to(config.device)  # Move the data to the device\n",
    "\n",
    "        ################################################################################\n",
    "        # TODO:                                                                        #\n",
    "        # Implement the forward pass and the backward pass                             #\n",
    "        ################################################################################\n",
    "        # *****START OF YOUR CODE (DO NOT DELETE/MODIFY THIS LINE)*****\n",
    "        # Forward pass\n",
    "        logits = model(x)\n",
    "        loss = F.cross_entropy(logits, y)\n",
    "\n",
    "        # print(logits[0])\n",
    "\n",
    "\n",
    "        # Backward pass\n",
    "        optimizer.zero_grad()\n",
    "        loss.backward()\n",
    "        optimizer.step()\n",
    "\n",
    "        # *****END OF YOUR CODE (DO NOT DELETE/MODIFY THIS LINE)*****\n",
    "        steps.append(step)\n",
    "        train_losses.append(loss.item())\n",
    "\n",
    "        # Validation\n",
    "        if step % config.val_interval == 0:\n",
    "            model.eval()  # Set the model to evaluation mode\n",
    "            with torch.no_grad():\n",
    "                val_logits = model(val_inputs.to(config.device))\n",
    "                val_loss = F.cross_entropy(val_logits, val_targets.to(config.device)).item()\n",
    "                val_losses.append(val_loss)\n",
    "            print(f\"Step {step}: Train Loss = {loss.item():.4f}, Val Loss = {val_loss:.4f}\")\n",
    "\n",
    "        if step == 1:\n",
    "            print(f\"Initial Train Loss = {loss.item():.4f}\")\n",
    "\n",
    "    # Plot the loss\n",
    "    plt.figure()\n",
    "    plt.plot(steps, train_losses, label=\"Train\")\n",
    "    val_steps = [step for step in steps if step % config.val_interval == 0]\n",
    "    plt.plot(val_steps, val_losses, label=\"Validation\")\n",
    "    plt.xlabel(\"Steps\")\n",
    "    plt.ylabel(\"Loss\")\n",
    "    plt.legend()\n",
    "    plt.show()"
   ]
  },
  {
   "cell_type": "code",
   "execution_count": 15,
   "id": "a98576264203d44b",
   "metadata": {},
   "outputs": [
    {
     "name": "stdout",
     "output_type": "stream",
     "text": [
      "Initial Train Loss = 29.9179\n",
      "Step 100: Train Loss = 18.2378, Val Loss = 20.4961\n",
      "Step 200: Train Loss = 16.0179, Val Loss = 17.0010\n",
      "Step 300: Train Loss = 13.5885, Val Loss = 14.8767\n",
      "Step 400: Train Loss = 12.5571, Val Loss = 13.4748\n",
      "Step 500: Train Loss = 15.3409, Val Loss = 12.4787\n",
      "Step 600: Train Loss = 12.8945, Val Loss = 11.6831\n",
      "Step 700: Train Loss = 9.2987, Val Loss = 11.0480\n",
      "Step 800: Train Loss = 10.4143, Val Loss = 10.5483\n",
      "Step 900: Train Loss = 9.5858, Val Loss = 10.0972\n",
      "Step 1000: Train Loss = 9.4562, Val Loss = 9.7105\n"
     ]
    },
    {
     "data": {
      "image/png": "[encoded data removed]",
      "text/plain": [
       "<Figure size 640x480 with 1 Axes>"
      ]
     },
     "metadata": {},
     "output_type": "display_data"
    }
   ],
   "source": [
    "train(mlp)"
   ]
  },
  {
   "cell_type": "markdown",
   "id": "f150b3de2ddc6718",
   "metadata": {},
   "source": [
    "#### Problem 1: Initialization\n",
    "\n",
    "Q: What is the initial loss value? What can you discuss about the loss value?"
   ]
  },
  {
   "cell_type": "code",
   "execution_count": 17,
   "id": "b8e6a354ade97cb9",
   "metadata": {},
   "outputs": [
    {
     "name": "stdout",
     "output_type": "stream",
     "text": [
      "Initial loss value: 3.2958\n"
     ]
    }
   ],
   "source": [
    "################################################################################\n",
    "# TODO:                                                                        #\n",
    "# Before the model is trained,                                                 #\n",
    "# we expect the model to predict a uniform distribution over the classes       #\n",
    "# What should be the initial loss value for a uniform distribution?            #\n",
    "################################################################################\n",
    "# *****START OF YOUR CODE (DO NOT DELETE/MODIFY THIS LINE)*****\n",
    "prob = 1/27\n",
    "initial_loss = -torch.log(torch.tensor(prob))\n",
    "# *****END OF YOUR CODE (DO NOT DELETE/MODIFY THIS LINE)*****\n",
    "print(f\"Initial loss value: {initial_loss:.4f}\")"
   ]
  },
  {
   "cell_type": "code",
   "execution_count": 19,
   "id": "ccc6f404e390df81",
   "metadata": {},
   "outputs": [
    {
     "name": "stdout",
     "output_type": "stream",
     "text": [
      "Example logits: tensor([-0.2828,  0.0673, -1.8829,  0.5589])\n",
      "Example probabilities: tensor([0.2024, 0.2872, 0.0409, 0.4696])\n",
      "Example loss value: 1.5976\n"
     ]
    }
   ],
   "source": [
    "# Example of wrong initialization issue\n",
    "# Goal: Predict the correct class out of 4 classes\n",
    "#example_logits = torch.tensor([0, 0, 0, 0], dtype=torch.float32)  # Uniform distribution\n",
    "exemple_logits = torch.randn(4) * 1\n",
    "target = 0\n",
    "prob = F.softmax(exemple_logits, dim=-1)\n",
    "loss = -prob[target].log()\n",
    "\n",
    "print(f\"Example logits: {exemple_logits}\")\n",
    "print(f\"Example probabilities: {prob}\")\n",
    "print(f\"Example loss value: {loss:.4f}\")"
   ]
  },
  {
   "cell_type": "code",
   "execution_count": 20,
   "id": "6b98329c62af4a6d",
   "metadata": {},
   "outputs": [],
   "source": [
    "# Solution: Re-initialize the model\n",
    "# Make the logits smaller\n",
    "class MLP2(nn.Module):\n",
    "    def __init__(self, vocab_size, context_size, d_embed, d_hidden):\n",
    "        super().__init__()\n",
    "        self.C = nn.Parameter(torch.randn(vocab_size, d_embed))\n",
    "        self.W1 = nn.Parameter(torch.randn(context_size * d_embed, d_hidden))\n",
    "        self.b1 = nn.Parameter(torch.randn(d_hidden))\n",
    "        ################################################################################\n",
    "        # TODO:                                                                        #\n",
    "        # Re-initialize the model with a small value to get low logits                 #\n",
    "        ################################################################################\n",
    "        # *****START OF YOUR CODE (DO NOT DELETE/MODIFY THIS LINE)*****\n",
    "        self.W2 = nn.Parameter(torch.randn(d_hidden, vocab_size))\n",
    "        self.b2 = nn.Parameter(torch.randn(vocab_size))\n",
    "        # *****END OF YOUR CODE (DO NOT DELETE/MODIFY THIS LINE)*****\n",
    "        \n",
    "    def forward(self, x):  # x: (batch_size, context_size)\n",
    "        # Embedding\n",
    "        x_embed = self.C[x]  # (batch_size, context_size, d_embed)\n",
    "        x = x_embed.view(x.size(0), -1)  # (batch_size, context_size * d_embed)\n",
    "        \n",
    "        # Hidden layer\n",
    "        h = F.tanh(x @ self.W1 + self.b1)  # (batch_size, d_hidden)\n",
    "        \n",
    "        # Output layer\n",
    "        logits = torch.matmul(h, self.W2) + self.b2  # (batch_size, vocab_size)\n",
    "        return logits"
   ]
  },
  {
   "cell_type": "code",
   "execution_count": 21,
   "id": "8bca4ff3b2add3d5",
   "metadata": {},
   "outputs": [
    {
     "name": "stdout",
     "output_type": "stream",
     "text": [
      "MLP2()\n",
      "Number of parameters: 19915\n"
     ]
    }
   ],
   "source": [
    "# Initialize the MLP V2\n",
    "mlp2 = MLP2(config.vocab_size, config.context_size, config.d_embed, config.d_hidden)\n",
    "mlp2.to(config.device) # Move the model to the device\n",
    "print(mlp2)\n",
    "print(\"Number of parameters:\", sum(p.numel() for p in mlp2.parameters()))"
   ]
  },
  {
   "cell_type": "code",
   "execution_count": 22,
   "id": "2fd54b99f41de6ca",
   "metadata": {},
   "outputs": [
    {
     "name": "stdout",
     "output_type": "stream",
     "text": [
      "Initial Train Loss = 27.8833\n",
      "Step 100: Train Loss = 25.9272, Val Loss = 20.8620\n",
      "Step 200: Train Loss = 19.1596, Val Loss = 17.7015\n",
      "Step 300: Train Loss = 19.0277, Val Loss = 15.3612\n",
      "Step 400: Train Loss = 16.8123, Val Loss = 13.7167\n",
      "Step 500: Train Loss = 10.7533, Val Loss = 12.6001\n",
      "Step 600: Train Loss = 11.6930, Val Loss = 11.6879\n",
      "Step 700: Train Loss = 10.0906, Val Loss = 10.9611\n",
      "Step 800: Train Loss = 7.5887, Val Loss = 10.3774\n",
      "Step 900: Train Loss = 8.9397, Val Loss = 9.8417\n",
      "Step 1000: Train Loss = 8.7423, Val Loss = 9.4278\n"
     ]
    },
    {
     "data": {
      "image/png": "[encoded data removed]",
      "text/plain": [
       "<Figure size 640x480 with 1 Axes>"
      ]
     },
     "metadata": {},
     "output_type": "display_data"
    }
   ],
   "source": [
    "# Train the model\n",
    "# train(model=mlp2, max_steps=1)\n",
    "train(mlp2)"
   ]
  },
  {
   "cell_type": "markdown",
   "id": "65a9d790d7558226",
   "metadata": {},
   "source": [
    "Initialization problem solved!\n",
    "\n",
    "Remember, initialization is a crucial step in training neural networks. If the weights are initialized with large values, the model may not converge. "
   ]
  },
  {
   "cell_type": "markdown",
   "id": "31b98f488b71a05b",
   "metadata": {},
   "source": [
    "#### Problem 2: Activation functions\n",
    "\n",
    "Q: What is the activation function used in the hidden layer? What is the \n",
    "characteristic of this activation function?\n",
    "\n",
    "[PyTorch Tanh](https://pytorch.org/docs/stable/generated/torch.nn.Tanh.html)"
   ]
  },
  {
   "cell_type": "code",
   "execution_count": 23,
   "id": "a5f3313dc2f9b044",
   "metadata": {},
   "outputs": [],
   "source": [
    "# Forward pass\n",
    "_idx = torch.randperm(len(train_inputs))[:config.batch_size]\n",
    "_x = train_inputs[_idx]\n",
    "_x_embed = mlp2.C[_x]\n",
    "_x = _x_embed.view(_x.size(0), -1)\n",
    "_x = _x @ mlp2.W1 + mlp2.b1\n",
    "h = F.tanh(_x)"
   ]
  },
  {
   "cell_type": "code",
   "execution_count": 24,
   "id": "bfeccf6de3cc7ad7",
   "metadata": {},
   "outputs": [
    {
     "data": {
      "image/png": "[encoded data removed]",
      "text/plain": [
       "<Figure size 1500x500 with 2 Axes>"
      ]
     },
     "metadata": {},
     "output_type": "display_data"
    }
   ],
   "source": [
    "# Plot the histogram of the hidden layer pre-activations and activations\n",
    "plt.figure(figsize=(15, 5))\n",
    "# Pre-activations\n",
    "plt.subplot(1, 2, 1)\n",
    "plt.hist(_x.view(-1).tolist(), bins=50)\n",
    "plt.title(\"Hidden Layer Pre-Activations\")\n",
    "plt.xlabel(\"Values\")\n",
    "plt.ylabel(\"Frequency\")\n",
    "# Activations\n",
    "plt.subplot(1, 2, 2)\n",
    "plt.hist(h.view(-1).tolist(), bins=50, range=(-1, 1))\n",
    "plt.title(\"Hidden Layer Activations\")\n",
    "plt.xlabel(\"Values\")\n",
    "plt.ylabel(\"Frequency\")\n",
    "plt.show()"
   ]
  },
  {
   "cell_type": "code",
   "execution_count": 25,
   "id": "571fbed636425c04",
   "metadata": {},
   "outputs": [
    {
     "data": {
      "text/plain": [
       "<matplotlib.image.AxesImage at 0x7f8f9bea0cb0>"
      ]
     },
     "execution_count": 25,
     "metadata": {},
     "output_type": "execute_result"
    },
    {
     "data": {
      "image/png": "[encoded data removed]",
      "text/plain": [
       "<Figure size 2000x1000 with 1 Axes>"
      ]
     },
     "metadata": {},
     "output_type": "display_data"
    }
   ],
   "source": [
    "plt.figure(figsize=(20, 10))\n",
    "# White if the value is larger than 0.99\n",
    "# Black if the value is smaller than 0.99\n",
    "plt.imshow(h.abs().cpu().detach().numpy() > 0.99, cmap=\"gray\", interpolation=\"nearest\")\n",
    "# If there is a column with all white, it means that the model will never learn -> Dead Neurons"
   ]
  },
  {
   "cell_type": "code",
   "execution_count": 28,
   "id": "d0b56a2e0293c96b",
   "metadata": {},
   "outputs": [
    {
     "ename": "NameError",
     "evalue": "name 'vocab_size' is not defined",
     "output_type": "error",
     "traceback": [
      "\u001b[0;31m---------------------------------------------------------------------------\u001b[0m",
      "\u001b[0;31mNameError\u001b[0m                                 Traceback (most recent call last)",
      "Cell \u001b[0;32mIn[28], line 7\u001b[0m\n\u001b[1;32m      1\u001b[0m \u001b[38;5;66;03m################################################################################\u001b[39;00m\n\u001b[1;32m      2\u001b[0m \u001b[38;5;66;03m# TODO:                                                                        #\u001b[39;00m\n\u001b[1;32m      3\u001b[0m \u001b[38;5;66;03m# Explain the problem with the graph above.                                    #\u001b[39;00m\n\u001b[1;32m      4\u001b[0m \u001b[38;5;66;03m# Hint: Lecture 1, custom tensor auto-grad engine.                             #\u001b[39;00m\n\u001b[1;32m      5\u001b[0m \u001b[38;5;66;03m################################################################################\u001b[39;00m\n\u001b[1;32m      6\u001b[0m \u001b[38;5;66;03m# *****START OF YOUR CODE (DO NOT DELETE/MODIFY THIS LINE)*****\u001b[39;00m\n\u001b[0;32m----> 7\u001b[0m \u001b[38;5;28mself\u001b[39m\u001b[38;5;241m.\u001b[39mC \u001b[38;5;241m=\u001b[39m nn\u001b[38;5;241m.\u001b[39mParameter(torch\u001b[38;5;241m.\u001b[39mrandn(vocab_size, d_embed)) \u001b[38;5;241m*\u001b[39m \u001b[38;5;241m0.1\u001b[39m\n\u001b[1;32m      8\u001b[0m \u001b[38;5;28mself\u001b[39m\u001b[38;5;241m.\u001b[39mW1 \u001b[38;5;241m=\u001b[39m nn\u001b[38;5;241m.\u001b[39mParameter(torch\u001b[38;5;241m.\u001b[39mrandn(context_size \u001b[38;5;241m*\u001b[39m d_embed, d_hidden)) \u001b[38;5;241m*\u001b[39m \u001b[38;5;241m0.2\u001b[39m\n\u001b[1;32m      9\u001b[0m \u001b[38;5;28mself\u001b[39m\u001b[38;5;241m.\u001b[39mb1 \u001b[38;5;241m=\u001b[39m nn\u001b[38;5;241m.\u001b[39mParameter(torch\u001b[38;5;241m.\u001b[39mrandn(d_hidden)) \u001b[38;5;241m*\u001b[39m \u001b[38;5;241m0.1\u001b[39m\n",
      "\u001b[0;31mNameError\u001b[0m: name 'vocab_size' is not defined"
     ]
    }
   ],
   "source": [
    "################################################################################\n",
    "# TODO:                                                                        #\n",
    "# Explain the problem with the graph above.                                    #\n",
    "# Hint: Lecture 1, custom tensor auto-grad engine.                             #\n",
    "################################################################################\n",
    "# *****START OF YOUR CODE (DO NOT DELETE/MODIFY THIS LINE)*****\n",
    "self.C = nn.Parameter(torch.randn(vocab_size, d_embed)) * 0.1\n",
    "self.W1 = nn.Parameter(torch.randn(context_size * d_embed, d_hidden)) * 0.2\n",
    "self.b1 = nn.Parameter(torch.randn(d_hidden)) * 0.1\n",
    "self.W2 = nn.Parameter(torch.randn(d_hidden, vocab_size)) * 0.1\n",
    "self.b2 = nn.Parameter(torch.randn(vocab_size)) * 0.01\n",
    "# *****END OF YOUR CODE (DO NOT DELETE/MODIFY THIS LINE)*****"
   ]
  },
  {
   "cell_type": "markdown",
   "id": "28c20fa2c5ba9de8",
   "metadata": {},
   "source": [
    "Adding more layers and making the model deeper is known to have better generalization performance.\n",
    "\n",
    "The reason why people didn't add more layers in the past was because of the vanishing gradient problem."
   ]
  },
  {
   "cell_type": "code",
   "execution_count": null,
   "id": "ee9dc8dd22effe40",
   "metadata": {},
   "outputs": [],
   "source": [
    "# Solution1: Re-re-initialize the model\n",
    "# Make the pre-activations smaller\n",
    "class MLP3(nn.Module):\n",
    "    def __init__(self, vocab_size, context_size, d_embed, d_hidden):\n",
    "        super().__init__()\n",
    "        ################################################################################\n",
    "        # TODO:                                                                        #\n",
    "        # Re-initialize the model with a small value                                   #\n",
    "        ################################################################################\n",
    "        # *****START OF YOUR CODE (DO NOT DELETE/MODIFY THIS LINE)*****\n",
    "\n",
    "        # *****END OF YOUR CODE (DO NOT DELETE/MODIFY THIS LINE)*****\n",
    "        \n",
    "    def forward(self, x):  # x: (batch_size, context_size)\n",
    "        # Embedding\n",
    "        x_embed = self.C[x]  # (batch_size, context_size, d_embed)\n",
    "        x = x_embed.view(x.size(0), -1)  # (batch_size, context_size * d_embed)\n",
    "        \n",
    "        # Hidden layer\n",
    "        h = F.tanh(x @ self.W1 + self.b1)  # (batch_size, d_hidden)\n",
    "        \n",
    "        # Output layer\n",
    "        logits = torch.matmul(h, self.W2) + self.b2  # (batch_size, vocab_size)\n",
    "        return logits"
   ]
  },
  {
   "cell_type": "code",
   "execution_count": null,
   "id": "cb915aa001509161",
   "metadata": {},
   "outputs": [],
   "source": [
    "# Initialize the MLP V3\n",
    "mlp3 = MLP3(config.vocab_size, config.context_size, config.d_embed, config.d_hidden)\n",
    "mlp3.to(config.device) # Move the model to the device\n",
    "print(mlp3)\n",
    "print(\"Number of parameters:\", sum(p.numel() for p in mlp3.parameters()))"
   ]
  },
  {
   "cell_type": "code",
   "execution_count": null,
   "id": "96d7e49148b3bb39",
   "metadata": {},
   "outputs": [],
   "source": [
    "# Forward pass\n",
    "_idx = torch.randperm(len(train_inputs))[:config.batch_size]\n",
    "_x = train_inputs[_idx]\n",
    "_x_embed = mlp3.C[_x]\n",
    "_x = _x_embed.view(_x.size(0), -1)\n",
    "_x = _x @ mlp3.W1 + mlp3.b1\n",
    "h = F.tanh(_x)"
   ]
  },
  {
   "cell_type": "code",
   "execution_count": null,
   "id": "d8aa4f82995db957",
   "metadata": {},
   "outputs": [],
   "source": [
    "# Plot the histogram of the hidden layer pre-activations and activations\n",
    "plt.figure(figsize=(15, 5))\n",
    "# Pre-activations\n",
    "plt.subplot(1, 2, 1)\n",
    "plt.hist(_x.view(-1).tolist(), bins=50)\n",
    "plt.title(\"Hidden Layer Pre-Activations\")\n",
    "plt.xlabel(\"Values\")\n",
    "plt.ylabel(\"Frequency\")\n",
    "# Activations\n",
    "plt.subplot(1, 2, 2)\n",
    "plt.hist(h.view(-1).tolist(), bins=50, range=(-1, 1))\n",
    "plt.title(\"Hidden Layer Activations\")\n",
    "plt.xlabel(\"Values\")\n",
    "plt.ylabel(\"Frequency\")\n",
    "plt.show()"
   ]
  },
  {
   "cell_type": "code",
   "execution_count": null,
   "id": "f97a9f00edafc114",
   "metadata": {},
   "outputs": [],
   "source": [
    "plt.figure(figsize=(20, 10))\n",
    "# White if the value is larger than 0.99\n",
    "# Black if the value is smaller than 0.99\n",
    "plt.imshow(h.abs().cpu().detach().numpy() > 0.99, cmap=\"gray\", interpolation=\"nearest\")\n",
    "# If there is a column with all white, it means that the model will never learn -> Dead Neurons"
   ]
  },
  {
   "cell_type": "code",
   "execution_count": null,
   "id": "c4eda9dc0de2e7f9",
   "metadata": {},
   "outputs": [],
   "source": [
    "# Train the model\n",
    "train(mlp3)"
   ]
  },
  {
   "cell_type": "markdown",
   "id": "e5b6af600b496ac",
   "metadata": {},
   "source": [
    "**Summary**\n",
    "\n",
    "1. Raw model           -> Val Loss = 10.8837\n",
    "2. Initialization fix  -> Val Loss = 2.7808\n",
    "3. Saturation fix      -> Val Loss = 2.7467\n",
    "\n",
    "There was an improvement even in this simple model. Imagine the effect of these problems in a deeper model."
   ]
  },
  {
   "cell_type": "markdown",
   "id": "b27d85e6dfce007f",
   "metadata": {},
   "source": [
    "#### Solution: Kaiming Initialization\n",
    "\n",
    "What should be the scale of the weights when initializing the model? (We can't try all the values every time)"
   ]
  },
  {
   "cell_type": "code",
   "execution_count": null,
   "id": "4ba19d83540d236f",
   "metadata": {},
   "outputs": [],
   "source": [
    "# Example distribution\n",
    "x = torch.randn(1000, 10)  # 1000 samples, 10 features\n",
    "W = torch.randn(10, 200)   # 10 features, 200 hidden units\n",
    "y = x @ W\n",
    "\n",
    "# Plot the histogram of the output distribution\n",
    "plt.figure(figsize=(20, 5))\n",
    "# Input\n",
    "plt.subplot(1, 2, 1)\n",
    "plt.hist(x.view(-1).tolist(), bins=50, density=True, range=(-15, 15))\n",
    "plt.title(f\"mean = {x.mean().item():.4f}, std = {x.std().item():.4f}\")\n",
    "plt.xlabel(\"Values\")\n",
    "plt.ylabel(\"Frequency\")\n",
    "# Output\n",
    "plt.subplot(1, 2, 2)\n",
    "plt.hist(y.view(-1).tolist(), bins=50, density=True, range=(-15, 15))\n",
    "plt.title(f\"mean = {y.mean().item():.4f}, std = {y.std().item():.4f}\")\n",
    "plt.xlabel(\"Values\")\n",
    "plt.ylabel(\"Frequency\")\n",
    "plt.show()"
   ]
  },
  {
   "cell_type": "code",
   "execution_count": null,
   "id": "dd7018abe53b9580",
   "metadata": {},
   "outputs": [],
   "source": [
    "################################################################################\n",
    "# TODO:                                                                        #\n",
    "# We want the same distribution for every layer (mean=1, std=1)                #\n",
    "# The gaussian distribution expanded from std=1 to std=3                       #\n",
    "# What should be the scale of the weights in the example above?                #\n",
    "################################################################################\n",
    "x = torch.randn(1000, 10)\n",
    "# *****START OF YOUR CODE (DO NOT DELETE/MODIFY THIS LINE)*****\n",
    "\n",
    "# *****END OF YOUR CODE (DO NOT DELETE/MODIFY THIS LINE)*****\n",
    "W = torch.randn(10, 200) * scale\n",
    "y = x @ W\n",
    "\n",
    "# Plot the histogram of the output distribution\n",
    "plt.figure(figsize=(20, 5))\n",
    "# Input\n",
    "plt.subplot(1, 2, 1)\n",
    "plt.hist(x.view(-1).tolist(), bins=50, density=True)\n",
    "plt.title(f\"mean = {x.mean().item():.4f}, std = {x.std().item():.4f}\")\n",
    "plt.xlabel(\"Values\")\n",
    "plt.ylabel(\"Frequency\")\n",
    "# Output\n",
    "plt.subplot(1, 2, 2)\n",
    "plt.hist(y.view(-1).tolist(), bins=50, density=True)\n",
    "plt.title(f\"mean = {y.mean().item():.4f}, std = {y.std().item():.4f}\")\n",
    "plt.xlabel(\"Values\")\n",
    "plt.ylabel(\"Frequency\")\n",
    "plt.show()"
   ]
  },
  {
   "cell_type": "markdown",
   "id": "285f4a4e0dc9227e",
   "metadata": {},
   "source": [
    "Number of papers looked into this initialization problem: making the weights not shrink or explode.\n",
    "\n",
    "One of the most popular solutions is the Kaiming Initialization. [He et al. 2015](https://arxiv.org/pdf/1502.01852)\n",
    "\n",
    "PyTorch has a built-in function for Kaiming initialization. [PyTorch Documentation](https://pytorch.org/docs/stable/nn.init.html#torch.nn.init.kaiming_normal_)\n",
    "\n",
    "**scale = gain / sqrt(fan_in)**\n",
    "- gain\n",
    "\n",
    "![gain](../../assets/gain.png)\n",
    "\n",
    "- fan_in: number of input units"
   ]
  },
  {
   "cell_type": "code",
   "execution_count": null,
   "id": "cdf7ea1f9900562d",
   "metadata": {},
   "outputs": [],
   "source": [
    "# Final solution: Re-re-re-initialize the model\n",
    "# Kaiming Initialization\n",
    "class MLP4(nn.Module):\n",
    "    def __init__(self, vocab_size, context_size, d_embed, d_hidden):\n",
    "        super().__init__()\n",
    "        ################################################################################\n",
    "        # TODO:                                                                        #\n",
    "        # Re-initialize the model with Kaiming Initialization                           #\n",
    "        ################################################################################\n",
    "        # *****START OF YOUR CODE (DO NOT DELETE/MODIFY THIS LINE)*****\n",
    "\n",
    "        # *****END OF YOUR CODE (DO NOT DELETE/MODIFY THIS LINE)*****\n",
    "        self.C = nn.Parameter(torch.randn(vocab_size, d_embed) * self.embedding_scale)\n",
    "        self.W1 = nn.Parameter(torch.randn(context_size * d_embed, d_hidden) * self.hidden_scale)\n",
    "        self.b1 = nn.Parameter(torch.randn(d_hidden) * 0.1)\n",
    "        self.W2 = nn.Parameter(torch.randn(d_hidden, vocab_size) * self.output_scale)\n",
    "        self.b2 = nn.Parameter(torch.randn(vocab_size) * 0.01)\n",
    "        \n",
    "    def forward(self, x):  # x: (batch_size, context_size)\n",
    "        # Embedding\n",
    "        x_embed = self.C[x]  # (batch_size, context_size, d_embed)\n",
    "        x = x_embed.view(x.size(0), -1)  # (batch_size, context_size * d_embed)\n",
    "        \n",
    "        # Hidden layer\n",
    "        h = F.tanh(x @ self.W1 + self.b1)  # (batch_size, d_hidden)\n",
    "        \n",
    "        # Output layer\n",
    "        logits = torch.matmul(h, self.W2) + self.b2  # (batch_size, vocab_size)\n",
    "        return logits"
   ]
  },
  {
   "cell_type": "code",
   "execution_count": null,
   "id": "596487c9aae3bd75",
   "metadata": {},
   "outputs": [],
   "source": [
    "# Initialize the MLP V4\n",
    "mlp4 = MLP4(config.vocab_size, config.context_size, config.d_embed, config.d_hidden)\n",
    "mlp4.to(config.device) # Move the model to the device\n",
    "print(mlp4)\n",
    "print(\"Number of parameters:\", sum(p.numel() for p in mlp4.parameters()))"
   ]
  },
  {
   "cell_type": "code",
   "execution_count": null,
   "id": "63c34096b2dc3f0d",
   "metadata": {},
   "outputs": [],
   "source": [
    "# Train the model\n",
    "train(mlp4)"
   ]
  },
  {
   "cell_type": "markdown",
   "id": "731277d6052c12",
   "metadata": {},
   "source": [
    "Final val loss: 2.7497 Yay!"
   ]
  }
 ],
 "metadata": {
  "kernelspec": {
   "display_name": "Python 3 (ipykernel)",
   "language": "python",
   "name": "python3"
  },
  "language_info": {
   "codemirror_mode": {
    "name": "ipython",
    "version": 3
   },
   "file_extension": ".py",
   "mimetype": "text/x-python",
   "name": "python",
   "nbconvert_exporter": "python",
   "pygments_lexer": "ipython3",
   "version": "3.12.9"
  }
 },
 "nbformat": 4,
 "nbformat_minor": 5
}
